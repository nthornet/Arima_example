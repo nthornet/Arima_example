{
 "cells": [
  {
   "cell_type": "code",
   "execution_count": null,
   "id": "initial_id",
   "metadata": {
    "collapsed": true
   },
   "outputs": [],
   "source": [
    "import numpy as np\n",
    "import pandas as pd\n",
    "import DataProcessing as dp\n",
    "import Arima\n",
    "import matplotlib.pyplot as plt"
   ]
  },
  {
   "metadata": {},
   "cell_type": "code",
   "outputs": [],
   "execution_count": null,
   "source": [
    "parkdata = pd.read_parquet('Data/archive/est_hourly.paruqet')\n",
    "parkdata.drop(['NI','PJM_Load'], inplace=True, axis = 1)\n",
    "parkdata = parkdata.sort_index()\n",
    "filled_data = dp.fill_empty(parkdata, debug=False)\n",
    "filled_data_feat = dp.feature_creation(filled_data,['AEP'], roll_amt=4)\n",
    "filled_data_feat = dp.fill_empty(filled_data_feat, debug=False)\n",
    "temp = filled_data_feat.copy()\n",
    "# print(filled_data_feat.columns)"
   ],
   "id": "b91f93ef4a92bd2d"
  },
  {
   "metadata": {},
   "cell_type": "code",
   "outputs": [],
   "execution_count": null,
   "source": [
    "x_diff, x_hat, residuals, d, p, q, phi, theta = Arima.prediction_engine(temp['AEP'],100)\n",
    "Arima.save_data(x_diff, x_hat, residuals, d, p, q, phi, theta)"
   ],
   "id": "b1d5cd48793ebb7"
  },
  {
   "metadata": {},
   "cell_type": "code",
   "outputs": [],
   "execution_count": null,
   "source": [
    "forecast_horizon = 24\n",
    "forecasted_x = Arima.forecast(x_diff,p,q,forecast_horizon,phi,theta,residuals)\n",
    "forecasted_x = Arima.build_forecast_dataframe(forecasted_x, temp['AEP'], d, forecast_horizon, include_inverse=False)\n",
    "\n",
    "plt.plot(x_diff.tail(200))\n",
    "plt.plot(forecasted_x)\n",
    "plt.show()"
   ],
   "id": "d0d6b620dc6bc926"
  }
 ],
 "metadata": {
  "kernelspec": {
   "display_name": "Python 3",
   "language": "python",
   "name": "python3"
  },
  "language_info": {
   "codemirror_mode": {
    "name": "ipython",
    "version": 2
   },
   "file_extension": ".py",
   "mimetype": "text/x-python",
   "name": "python",
   "nbconvert_exporter": "python",
   "pygments_lexer": "ipython2",
   "version": "2.7.6"
  }
 },
 "nbformat": 4,
 "nbformat_minor": 5
}
